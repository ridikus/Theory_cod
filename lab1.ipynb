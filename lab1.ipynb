{
 "cells": [
  {
   "cell_type": "code",
   "id": "initial_id",
   "metadata": {
    "collapsed": true,
    "ExecuteTime": {
     "end_time": "2024-12-05T12:24:44.583989Z",
     "start_time": "2024-12-05T12:24:44.565607Z"
    }
   },
   "source": [
    "import copy\n",
    "import numpy as np\n",
    "\n",
    "def REF(matr):\n",
    "    rows, cols = matr.shape\n",
    "    lead = 0                                           
    "\n",
    "    for row in range(rows):                             
    "        if lead >= cols:                               
    "            return matr\n",
    "\n",
    "        i = row                                        
    "        while matr[i, lead] == 0:                       
    "            i += 1                                      
    "            if i == rows:\n",
    "                i = row\n",
    "                lead += 1                               
    "                if lead == cols:\n",
    "                    return matr\n",
    "\n",
    "        matr[[row, i]] = matr[[i, row]]                
    "        for i in range(row + 1, rows):                  
    "            if matr[i, lead] != 0:\n",
    "                matr[i] = (matr[i] + matr[row]) % 2\n",
    "\n",
    "        lead += 1\n",
    "\n",
    "    return matr\n",
    "\n",
    "def RREF(matr):\n",
    "    rows, cols = matr.shape\n",
    "    lead = 0                                            
    "\n",
    "    for row in range(rows):                             
    "        if lead >= cols:                                
    "            return matr\n",
    "\n",
    "        i = row                                         
    "        while matr[i, lead] == 0:                       
    "            i += 1                                      
    "            if i == rows:\n",
    "                i = row\n",
    "                lead += 1                               
    "                if lead == cols:\n",
    "                    return matr\n",
    "\n",
    "\n",
    "        matr[[row, i]] = matr[[i, row]]                
    "        for i in range(rows):                          
    "            if i != row and matr[i, lead] == 1:\n",
    "                matr[i] = (matr[i] + matr[row]) % 2\n",
    "\n",
    "        lead += 1\n",
    "\n",
    "    return matr\n",
    "\n",
    "def isZero(matr, i):\n",
    "    return np.all(matr[i] == 0)\n",
    "\n",
    "def delZeros(matr):\n",
    "    non_zero = [not isZero(matr, i) for i in range(matr.shape[0])]\n",
    "    return matr[non_zero]\n",
    "\n",
    "def sumV(v1, v2):\n",
    "    v3 = []\n",
    "    for i in range(0, len(v1)):\n",
    "        v3.append((v1[i] + v2[i]) % 2)\n",
    "    return np.array(v3)\n",
    "\n",
    "def located(v, M):\n",
    "    for i in range(0, len(M)):\n",
    "        a = 0\n",
    "        for j in range(0, len(M[0])):\n",
    "            if v[j] == M[i][j]:\n",
    "                a += 1\n",
    "        if a == len(M[0]):\n",
    "            return True\n",
    "    return False\n",
    "\n",
    "def vM(v, M):\n",
    "    vM = []\n",
    "    for i in range(0, len(M[0])):\n",
    "        c = 0\n",
    "        for j in range(0, len(M)):\n",
    "            c += M[j][i] * v[j]\n",
    "        vM.append(c % 2)\n",
    "    return np.array(vM)"
   ],
   "outputs": [],
   "execution_count": 2
  },
  {
   "metadata": {
    "ExecuteTime": {
     "end_time": "2024-12-05T12:24:50.741639Z",
     "start_time": "2024-12-05T12:24:50.726470Z"
    }
   },
   "cell_type": "code",
   "source": [
    "class LinearCode:\n",
    "    @property\n",
    "    def S(self):\n",
    "        return delZeros(self.__S)\n",
    "\n",
    "    def __init__(self):\n",
    "        self.__S = []\n",
    "\n",
    "    @S.setter\n",
    "    def S(self, matr):\n",
    "        self.__S = matr\n",
    "\n",
    "    def S_REF(self):                           
    "        return delZeros(REF(self.S))\n",
    "\n",
    "    def S_RREF(self):\n",
    "        return delZeros(RREF(self.S))\n",
    "\n",
    "    def n(self):                                
    "        return len(self.S[0])\n",
    "\n",
    "    def k(self):                               
    "        return len(self.S)\n",
    "\n",
    "    def lead(self):                            
    "        lead = []\n",
    "        for row in self.S_RREF():\n",
    "            for i, value in enumerate(row):\n",
    "                if value != 0:\n",
    "                    if i not in lead:\n",
    "                        lead.append(i)\n",
    "                    break  
    "        return lead\n",
    "\n",
    "    def X(self):                              
    "        X = self.S_RREF()\n",
    "        lead = self.lead()\n",
    "        return np.delete(X, lead, axis=1)\n",
    "\n",
    "    def H(self):\n",
    "        X = self.X()\n",
    "        lead = self.lead()\n",
    "        I = np.eye(X.shape[1])\n",
    "        H = np.zeros((X.shape[0] + X.shape[1], X.shape[1]), dtype=int)\n",
    "        ix = 0\n",
    "        ii = 0\n",
    "        for i in range(H.shape[0]):\n",
    "            if i in lead:\n",
    "                H[i, :] = X[ix, :]\n",
    "                ix += 1\n",
    "            else:\n",
    "                H[i, :] = I[ii, :]\n",
    "                ii += 1\n",
    "        return H\n",
    "\n",
    "    def U(self):\n",
    "        U = []\n",
    "        G = self.S_REF()\n",
    "        for j in range(0, len(G[0])):\n",
    "            u = []\n",
    "            for i in range(0, len(G)):\n",
    "                u.append(G[i][j])\n",
    "            if not located(u, U):\n",
    "                U.append(u)\n",
    "        flag = True\n",
    "        while flag:\n",
    "            flag = False\n",
    "            for i in range(0, len(U)):\n",
    "                for j in range(i + 1, len(U)):\n",
    "                    if not located(sumV(U[i], U[j]), U):\n",
    "                        U.append(sumV(U[i], U[j]))\n",
    "                        flag = True\n",
    "        return np.array(U)\n",
    "\n",
    "    def U2(self):\n",
    "        U = []\n",
    "        u = []\n",
    "        G = self.S_REF()\n",
    "        H = self.H()\n",
    "        for m in self.U()[0]:\n",
    "            u.append(0)\n",
    "        for i in range(0, 2 ** 5):\n",
    "            v = vM(u, G)\n",
    "            vH = vM(v, H)\n",
    "            a = 0\n",
    "            for k in range(0, len(vH)):\n",
    "                if vH[k] == 0:\n",
    "                    a += 1\n",
    "            if a == len(vH):\n",
    "                if not located(copy.copy(u), U):\n",
    "                    U.append(copy.copy(u))\n",
    "            for j in range(0, len(u)):\n",
    "                if u[len(u) - j - 1] == 0:\n",
    "                    u[len(u) - j - 1] = 1\n",
    "                    break\n",
    "                else:\n",
    "                    u[len(u) - j - 1] = 0\n",
    "        return np.array(U)\n",
    "\n",
    "    def V(self):\n",
    "        U = self.U()\n",
    "        V = []\n",
    "        G = self.S_REF()\n",
    "        for i in range(0, len(U)):\n",
    "            V.append(vM(U[i], G))\n",
    "        return np.array(V)\n",
    "\n",
    "    def d(self):\n",
    "        V = self.V()\n",
    "        d = len(V[0])\n",
    "        for i in range(0, len(V) - 1):\n",
    "            for k in range(i + 1, len(V)):\n",
    "                a = 0\n",
    "                for j in range(0, len(V[0])):\n",
    "                    if V[i][j] != V[k][j]:\n",
    "                        a += 1\n",
    "                if d > a:\n",
    "                    d = a\n",
    "        return d\n",
    "\n",
    "    def t(self):\n",
    "        return self.d() - 1\n",
    "\n",
    "    def e2(self, indexV):\n",
    "        v = self.V()[indexV]\n",
    "        H = self.H()\n",
    "        for i in range(0, len(v) - 1):\n",
    "            for j in range(i + 1, len(v)):\n",
    "                e2 = []\n",
    "                for k in v:\n",
    "                    e2.append(0)\n",
    "                e2[i] = 1\n",
    "                e2[j] = 1\n",
    "                ve2 = sumV(v, e2)\n",
    "                ve2H = vM(ve2, H)\n",
    "                a = 0\n",
    "                for k in range(0, len(ve2H)):\n",
    "                    if ve2H[k] == 0:\n",
    "                        a += 1\n",
    "                if a == len(ve2H):\n",
    "                    return e2"
   ],
   "id": "cbb2965c017f2824",
   "outputs": [],
   "execution_count": 3
  },
  {
   "metadata": {
    "ExecuteTime": {
     "end_time": "2024-12-05T12:24:55.859474Z",
     "start_time": "2024-12-05T12:24:55.839233Z"
    }
   },
   "cell_type": "code",
   "source": [
    "S0 = np.array([[1, 0, 1, 1, 0, 0, 0, 1, 0, 0, 1],\n",
    "               [0, 0, 0, 1, 1, 1, 0, 1, 0, 1, 0],\n",
    "               [0, 0, 0, 0, 1, 0, 0, 1, 0, 0, 1],\n",
    "               [1, 0, 1, 0, 1, 1, 1, 0, 0, 0, 0],\n",
    "               [0, 0, 0, 0, 1, 0, 0, 1, 1, 1, 0],\n",
    "               [1, 0, 1, 1, 1, 0, 0, 0, 0, 0, 0]])\n",
    "\n",
    "LC = LinearCode()\n",
    "LC.S = S0\n",
    "print(\"S matrix:\")\n",
    "print(LC.S)"
   ],
   "id": "7c4c807e20311a92",
   "outputs": [
    {
     "name": "stdout",
     "output_type": "stream",
     "text": [
      "S matrix:\n",
      "[[1 0 1 1 0 0 0 1 0 0 1]\n",
      " [0 0 0 1 1 1 0 1 0 1 0]\n",
      " [0 0 0 0 1 0 0 1 0 0 1]\n",
      " [1 0 1 0 1 1 1 0 0 0 0]\n",
      " [0 0 0 0 1 0 0 1 1 1 0]\n",
      " [1 0 1 1 1 0 0 0 0 0 0]]\n"
     ]
    }
   ],
   "execution_count": 4
  },
  {
   "metadata": {
    "ExecuteTime": {
     "end_time": "2024-12-05T12:24:58.126076Z",
     "start_time": "2024-12-05T12:24:58.110995Z"
    }
   },
   "cell_type": "code",
   "source": [
    "print(\"G matrix: \",)\n",
    "print(LC.S_REF())"
   ],
   "id": "d72bfee6e441b039",
   "outputs": [
    {
     "name": "stdout",
     "output_type": "stream",
     "text": [
      "G matrix: \n",
      "[[1 0 1 1 0 0 0 1 0 0 1]\n",
      " [0 0 0 1 1 1 0 1 0 1 0]\n",
      " [0 0 0 0 1 0 0 1 0 0 1]\n",
      " [0 0 0 0 0 0 1 0 0 1 1]\n",
      " [0 0 0 0 0 0 0 0 1 1 1]]\n"
     ]
    }
   ],
   "execution_count": 5
  },
  {
   "metadata": {
    "ExecuteTime": {
     "end_time": "2024-12-05T12:24:59.243297Z",
     "start_time": "2024-12-05T12:24:59.236239Z"
    }
   },
   "cell_type": "code",
   "source": [
    "print(\"n =\", LC.n())\n",
    "print(\"k =\", LC.k())"
   ],
   "id": "c05207b0c3955ade",
   "outputs": [
    {
     "name": "stdout",
     "output_type": "stream",
     "text": [
      "n = 11\n",
      "k = 6\n"
     ]
    }
   ],
   "execution_count": 6
  },
  {
   "metadata": {
    "ExecuteTime": {
     "end_time": "2024-12-05T12:25:00.479938Z",
     "start_time": "2024-12-05T12:25:00.464785Z"
    }
   },
   "cell_type": "code",
   "source": [
    "print(\"G* matrix: \")\n",
    "print(LC.S_RREF())"
   ],
   "id": "66634232227b0a2e",
   "outputs": [
    {
     "name": "stdout",
     "output_type": "stream",
     "text": [
      "G* matrix: \n",
      "[[1 0 1 0 0 1 0 1 0 1 0]\n",
      " [0 0 0 1 0 1 0 0 0 1 1]\n",
      " [0 0 0 0 1 0 0 1 0 0 1]\n",
      " [0 0 0 0 0 0 1 0 0 1 1]\n",
      " [0 0 0 0 0 0 0 0 1 1 1]]\n"
     ]
    }
   ],
   "execution_count": 7
  },
  {
   "metadata": {
    "ExecuteTime": {
     "end_time": "2024-12-05T12:25:01.762546Z",
     "start_time": "2024-12-05T12:25:01.757454Z"
    }
   },
   "cell_type": "code",
   "source": "print(\"lead =\", LC.lead())",
   "id": "e945c48f695442cf",
   "outputs": [
    {
     "name": "stdout",
     "output_type": "stream",
     "text": [
      "lead = [0, 3, 4, 6, 8]\n"
     ]
    }
   ],
   "execution_count": 8
  },
  {
   "metadata": {
    "ExecuteTime": {
     "end_time": "2024-12-05T12:25:03.066638Z",
     "start_time": "2024-12-05T12:25:03.052579Z"
    }
   },
   "cell_type": "code",
   "source": [
    "print(\"X matrix: \")\n",
    "print(LC.X())"
   ],
   "id": "5fb2ecc411a947cb",
   "outputs": [
    {
     "name": "stdout",
     "output_type": "stream",
     "text": [
      "X matrix: \n",
      "[[0 1 1 1 1 0]\n",
      " [0 0 1 0 1 1]\n",
      " [0 0 0 1 0 1]\n",
      " [0 0 0 0 1 1]\n",
      " [0 0 0 0 1 1]]\n"
     ]
    }
   ],
   "execution_count": 9
  },
  {
   "metadata": {
    "ExecuteTime": {
     "end_time": "2024-12-05T12:25:04.556016Z",
     "start_time": "2024-12-05T12:25:04.549702Z"
    }
   },
   "cell_type": "code",
   "source": [
    "print(\"H matrix: \")\n",
    "print(LC.H())"
   ],
   "id": "9ed8db3906dface",
   "outputs": [
    {
     "name": "stdout",
     "output_type": "stream",
     "text": [
      "H matrix: \n",
      "[[0 1 1 1 1 0]\n",
      " [1 0 0 0 0 0]\n",
      " [0 1 0 0 0 0]\n",
      " [0 0 1 0 1 1]\n",
      " [0 0 0 1 0 1]\n",
      " [0 0 1 0 0 0]\n",
      " [0 0 0 0 1 1]\n",
      " [0 0 0 1 0 0]\n",
      " [0 0 0 0 1 1]\n",
      " [0 0 0 0 1 0]\n",
      " [0 0 0 0 0 1]]\n"
     ]
    }
   ],
   "execution_count": 10
  },
  {
   "metadata": {
    "ExecuteTime": {
     "end_time": "2024-12-05T12:25:06.014628Z",
     "start_time": "2024-12-05T12:25:05.989438Z"
    }
   },
   "cell_type": "code",
   "source": [
    "print(\"U matrix: \")\n",
    "print(LC.U())"
   ],
   "id": "92115350a12f3c33",
   "outputs": [
    {
     "name": "stdout",
     "output_type": "stream",
     "text": [
      "U matrix: \n",
      "[[1 0 0 0 0]\n",
      " [0 0 0 0 0]\n",
      " [1 1 0 0 0]\n",
      " [0 1 1 0 0]\n",
      " [0 1 0 0 0]\n",
      " [0 0 0 1 0]\n",
      " [1 1 1 0 0]\n",
      " [0 0 0 0 1]\n",
      " [0 1 0 1 1]\n",
      " [1 0 1 1 1]\n",
      " [1 0 0 1 0]\n",
      " [1 0 0 0 1]\n",
      " [1 1 0 1 1]\n",
      " [0 0 1 1 1]\n",
      " [1 0 1 0 0]\n",
      " [1 1 0 1 0]\n",
      " [0 0 1 0 0]\n",
      " [1 1 0 0 1]\n",
      " [1 0 0 1 1]\n",
      " [0 1 1 1 1]\n",
      " [0 1 0 1 0]\n",
      " [0 1 0 0 1]\n",
      " [0 0 0 1 1]\n",
      " [1 1 1 1 1]\n",
      " [0 1 1 1 0]\n",
      " [0 1 1 0 1]\n",
      " [1 1 1 1 0]\n",
      " [1 1 1 0 1]\n",
      " [1 0 1 1 0]\n",
      " [1 0 1 0 1]\n",
      " [0 0 1 1 0]\n",
      " [0 0 1 0 1]]\n"
     ]
    }
   ],
   "execution_count": 11
  },
  {
   "metadata": {
    "ExecuteTime": {
     "end_time": "2024-12-05T12:25:09.652342Z",
     "start_time": "2024-12-05T12:25:09.621824Z"
    }
   },
   "cell_type": "code",
   "source": [
    "print(\"U2 matrix: \")\n",
    "print(LC.U2())"
   ],
   "id": "70b7d777daf3391e",
   "outputs": [
    {
     "name": "stdout",
     "output_type": "stream",
     "text": [
      "U2 matrix: \n",
      "[[0 0 0 0 0]\n",
      " [0 0 0 0 1]\n",
      " [0 0 0 1 0]\n",
      " [0 0 0 1 1]\n",
      " [0 0 1 0 0]\n",
      " [0 0 1 0 1]\n",
      " [0 0 1 1 0]\n",
      " [0 0 1 1 1]\n",
      " [0 1 0 0 0]\n",
      " [0 1 0 0 1]\n",
      " [0 1 0 1 0]\n",
      " [0 1 0 1 1]\n",
      " [0 1 1 0 0]\n",
      " [0 1 1 0 1]\n",
      " [0 1 1 1 0]\n",
      " [0 1 1 1 1]\n",
      " [1 0 0 0 0]\n",
      " [1 0 0 0 1]\n",
      " [1 0 0 1 0]\n",
      " [1 0 0 1 1]\n",
      " [1 0 1 0 0]\n",
      " [1 0 1 0 1]\n",
      " [1 0 1 1 0]\n",
      " [1 0 1 1 1]\n",
      " [1 1 0 0 0]\n",
      " [1 1 0 0 1]\n",
      " [1 1 0 1 0]\n",
      " [1 1 0 1 1]\n",
      " [1 1 1 0 0]\n",
      " [1 1 1 0 1]\n",
      " [1 1 1 1 0]\n",
      " [1 1 1 1 1]]\n"
     ]
    }
   ],
   "execution_count": 12
  },
  {
   "metadata": {
    "ExecuteTime": {
     "end_time": "2024-12-05T12:25:12.588425Z",
     "start_time": "2024-12-05T12:25:12.534608Z"
    }
   },
   "cell_type": "code",
   "source": [
    "v=LC.V()[0]\n",
    "print(\"v = \", v)\n",
    "vH = vM(v, LC.H())\n",
    "print(\"vH = \", vH)\n",
    "print(\"d =\", LC.d())\n",
    "print(\"t =\", LC.t())\n",
    "e1 = [0, 0, 1, 0, 0, 0, 0, 0, 0, 0, 0]\n",
    "print(\"e1 =\", e1)\n",
    "ve1 = sumV(e1, v)\n",
    "print(\"v + e1 =\", ve1)\n",
    "print(\"(v + e1)@H =\", vM(ve1, LC.H()))\n",
    "e2 = LC.e2(0)\n",
    "print(\"e2 =\", e2)\n",
    "ve2 = sumV(e2, v)\n",
    "print(\"v + e2 =\", ve2)\n",
    "print(\"(v + e2)@H =\", vM(ve2, LC.H()))"
   ],
   "id": "4be6518f05cac892",
   "outputs": [
    {
     "name": "stdout",
     "output_type": "stream",
     "text": [
      "v =  [1 0 1 1 0 0 0 1 0 0 1]\n",
      "vH =  [0 0 0 0 0 0]\n",
      "d = 2\n",
      "t = 1\n",
      "e1 = [0, 0, 1, 0, 0, 0, 0, 0, 0, 0, 0]\n",
      "v + e1 = [1 0 0 1 0 0 0 1 0 0 1]\n",
      "(v + e1)@H = [0 1 0 0 0 0]\n",
      "e2 = [0, 0, 0, 0, 0, 0, 1, 0, 1, 0, 0]\n",
      "v + e2 = [1 0 1 1 0 0 1 1 1 0 1]\n",
      "(v + e2)@H = [0 0 0 0 0 0]\n"
     ]
    }
   ],
   "execution_count": 13
  }
 ],
 "metadata": {
  "kernelspec": {
   "display_name": "Python 3",
   "language": "python",
   "name": "python3"
  },
  "language_info": {
   "codemirror_mode": {
    "name": "ipython",
    "version": 2
   },
   "file_extension": ".py",
   "mimetype": "text/x-python",
   "name": "python",
   "nbconvert_exporter": "python",
   "pygments_lexer": "ipython2",
   "version": "2.7.6"
  }
 },
 "nbformat": 4,
 "nbformat_minor": 5
}
