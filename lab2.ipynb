{
 "cells": [
  {
   "cell_type": "code",
   "id": "initial_id",
   "metadata": {
    "collapsed": true,
    "ExecuteTime": {
     "end_time": "2024-12-05T12:57:55.374022Z",
     "start_time": "2024-12-05T12:57:55.302742Z"
    }
   },
   "source": [
    "import numpy as np\n",
    "\n",
    "def generate_G(k, n, custom_X=None):\n",
    "    I = np.eye(k, dtype=int)\n",
    "    if custom_X is None:\n",
    "        X = np.array([[1, 1, 0], [1, 0, 1], [0, 1, 1], [1, 1, 1]])\n",
    "    else:\n",
    "        X = np.array(custom_X)\n",
    "    G = np.hstack((I, X))\n",
    "    return G\n",
    "\n",
    "def generate_H(X):\n",
    "    I = np.eye(X.shape[1], dtype=int)\n",
    "    H = np.hstack((X.T, I))\n",
    "    return H\n",
    "\n",
    "def generate_syndromes(H):\n",
    "    syndromes = {}\n",
    "    for i in range(H.shape[1]):\n",
    "        error_vector = np.zeros(H.shape[1], dtype=int)\n",
    "        error_vector[i] = 1\n",
    "        syndrome = np.dot(H, error_vector) % 2\n",
    "        syndromes[tuple(syndrome)] = error_vector\n",
    "    return syndromes\n",
    "\n",
    "def generate_codeword(data, G):\n",
    "    return np.dot(data, G) % 2\n",
    "\n",
    "def introduce_error(codeword, positions):\n",
    "    for pos in positions:\n",
    "        codeword[pos] ^= 1\n",
    "    return codeword\n",
    "\n",
    "def calculate_syndrome(received_word, H):\n",
    "    return np.dot(H, received_word) % 2\n",
    "\n",
    "def correct_error(received_word, syndrome, syndromes):\n",
    "    if tuple(syndrome) in syndromes:\n",
    "        error_vector = syndromes[tuple(syndrome)]\n",
    "        corrected_word = (received_word + error_vector) % 2\n",
    "        return corrected_word\n",
    "    return received_word"
   ],
   "outputs": [],
   "execution_count": 1
  },
  {
   "metadata": {
    "ExecuteTime": {
     "end_time": "2024-12-05T12:57:59.157634Z",
     "start_time": "2024-12-05T12:57:59.149386Z"
    }
   },
   "cell_type": "code",
   "source": [
    "k, n = 4, 7\n",
    "G = generate_G(k, n)\n",
    "print(\"Порождающая матрица G:\\n\", G)\n",
    "H = generate_H(G[:, k:])\n",
    "print(\"\\nПроверочная матрица H:\\n\", H)"
   ],
   "id": "3c913b1f57b1a39c",
   "outputs": [
    {
     "name": "stdout",
     "output_type": "stream",
     "text": [
      "Порождающая матрица G:\n",
      " [[1 0 0 0 1 1 0]\n",
      " [0 1 0 0 1 0 1]\n",
      " [0 0 1 0 0 1 1]\n",
      " [0 0 0 1 1 1 1]]\n",
      "\n",
      "Проверочная матрица H:\n",
      " [[1 1 0 1 1 0 0]\n",
      " [1 0 1 1 0 1 0]\n",
      " [0 1 1 1 0 0 1]]\n"
     ]
    }
   ],
   "execution_count": 2
  },
  {
   "metadata": {
    "ExecuteTime": {
     "end_time": "2024-12-05T12:58:01.652258Z",
     "start_time": "2024-12-05T12:58:01.635095Z"
    }
   },
   "cell_type": "code",
   "source": [
    "syndromes = generate_syndromes(H)\n",
    "print(\"\\nСиндромы для однократных ошибок:\")\n",
    "for syndrome, error in syndromes.items():\n",
    "    print(f\"Синдром {syndrome}: Ошибка {error}\")"
   ],
   "id": "ccdf00a6dc9488a7",
   "outputs": [
    {
     "name": "stdout",
     "output_type": "stream",
     "text": [
      "\n",
      "Синдромы для однократных ошибок:\n",
      "Синдром (np.int64(1), np.int64(1), np.int64(0)): Ошибка [1 0 0 0 0 0 0]\n",
      "Синдром (np.int64(1), np.int64(0), np.int64(1)): Ошибка [0 1 0 0 0 0 0]\n",
      "Синдром (np.int64(0), np.int64(1), np.int64(1)): Ошибка [0 0 1 0 0 0 0]\n",
      "Синдром (np.int64(1), np.int64(1), np.int64(1)): Ошибка [0 0 0 1 0 0 0]\n",
      "Синдром (np.int64(1), np.int64(0), np.int64(0)): Ошибка [0 0 0 0 1 0 0]\n",
      "Синдром (np.int64(0), np.int64(1), np.int64(0)): Ошибка [0 0 0 0 0 1 0]\n",
      "Синдром (np.int64(0), np.int64(0), np.int64(1)): Ошибка [0 0 0 0 0 0 1]\n"
     ]
    }
   ],
   "execution_count": 3
  },
  {
   "metadata": {
    "ExecuteTime": {
     "end_time": "2024-12-05T12:59:11.568124Z",
     "start_time": "2024-12-05T12:59:11.545896Z"
    }
   },
   "cell_type": "code",
   "source": [
    "data_word = np.array([1, 0, 1, 1])\n",
    "codeword = generate_codeword(data_word, G)\n",
    "print(\"\\nКодовое слово:\", codeword)\n",
    "\n",
    "received_word = introduce_error(codeword.copy(), [2])\n",
    "print(\"Кодовое слово с однократной ошибкой:\", received_word)\n",
    "\n",
    "syndrome = calculate_syndrome(received_word, H)\n",
    "print(\"Синдром:\", syndrome)\n",
    "\n",
    "corrected_word = correct_error(received_word, syndrome, syndromes)\n",
    "print(\"Исправленное слово:\", corrected_word)\n",
    "print(\"Проверка совпадения с исходным:\", np.array_equal(corrected_word, codeword))\n",
    "\n",
    "received_word_double = introduce_error(codeword.copy(), [1, 5])\n",
    "print(\"\\nКодовое слово с двукратной ошибкой:\", received_word_double)\n",
    "\n",
    "syndrome_double = calculate_syndrome(received_word_double, H)\n",
    "print(\"Синдром для двукратной ошибки:\", syndrome_double)\n",
    "\n",
    "corrected_word_double = correct_error(received_word_double, syndrome_double, syndromes)\n",
    "print(\"Попытка исправления двукратной ошибки:\", corrected_word_double)\n",
    "print(\"Полученное слово отличается от исходного:\", not np.array_equal(corrected_word_double, codeword))"
   ],
   "id": "600d601c08c64cee",
   "outputs": [
    {
     "name": "stdout",
     "output_type": "stream",
     "text": [
      "\n",
      "Кодовое слово: [1 0 1 1 0 1 0]\n",
      "Кодовое слово с однократной ошибкой: [1 0 0 1 0 1 0]\n",
      "Синдром: [0 1 1]\n",
      "Исправленное слово: [1 0 1 1 0 1 0]\n",
      "Проверка совпадения с исходным: True\n",
      "\n",
      "Кодовое слово с двукратной ошибкой: [1 1 1 1 0 0 0]\n",
      "Синдром для двукратной ошибки: [1 1 1]\n",
      "Попытка исправления двукратной ошибки: [1 1 1 0 0 0 0]\n",
      "Полученное слово отличается от исходного: True\n"
     ]
    }
   ],
   "execution_count": 11
  },
  {
   "metadata": {
    "ExecuteTime": {
     "end_time": "2024-12-05T12:59:24.469702Z",
     "start_time": "2024-12-05T12:59:24.458764Z"
    }
   },
   "cell_type": "code",
   "source": [
    "k2, n2 = 5, 10\n",
    "custom_X = [[1, 1, 0, 1, 0], [1, 0, 1, 0, 1], [0, 1, 1, 1, 0], [1, 1, 0, 0, 1], [0, 0, 1, 1, 1]]\n",
    "G2 = generate_G(k2, n2, custom_X)\n",
    "print(\"Порождающая матрица G2:\\n\", G2)\n",
    "\n",
    "H2 = generate_H(G2[:, k2:])\n",
    "print(\"\\nПроверочная матрица H2:\\n\", H2)"
   ],
   "id": "2504f82a0ff32349",
   "outputs": [
    {
     "name": "stdout",
     "output_type": "stream",
     "text": [
      "Порождающая матрица G2:\n",
      " [[1 0 0 0 0 1 1 0 1 0]\n",
      " [0 1 0 0 0 1 0 1 0 1]\n",
      " [0 0 1 0 0 0 1 1 1 0]\n",
      " [0 0 0 1 0 1 1 0 0 1]\n",
      " [0 0 0 0 1 0 0 1 1 1]]\n",
      "\n",
      "Проверочная матрица H2:\n",
      " [[1 1 0 1 0 1 0 0 0 0]\n",
      " [1 0 1 1 0 0 1 0 0 0]\n",
      " [0 1 1 0 1 0 0 1 0 0]\n",
      " [1 0 1 0 1 0 0 0 1 0]\n",
      " [0 1 0 1 1 0 0 0 0 1]]\n"
     ]
    }
   ],
   "execution_count": 12
  },
  {
   "metadata": {
    "ExecuteTime": {
     "end_time": "2024-12-05T12:59:26.433014Z",
     "start_time": "2024-12-05T12:59:26.418347Z"
    }
   },
   "cell_type": "code",
   "source": [
    "double_error_syndromes = generate_syndromes(H2)\n",
    "print(\"\\nСиндромы для двукратных ошибок:\")\n",
    "for syndrome, error in double_error_syndromes.items():\n",
    "    print(f\"Синдром {syndrome}: Ошибка {error}\")"
   ],
   "id": "39dc439873037dd9",
   "outputs": [
    {
     "name": "stdout",
     "output_type": "stream",
     "text": [
      "\n",
      "Синдромы для двукратных ошибок:\n",
      "Синдром (np.int64(1), np.int64(1), np.int64(0), np.int64(1), np.int64(0)): Ошибка [1 0 0 0 0 0 0 0 0 0]\n",
      "Синдром (np.int64(1), np.int64(0), np.int64(1), np.int64(0), np.int64(1)): Ошибка [0 1 0 0 0 0 0 0 0 0]\n",
      "Синдром (np.int64(0), np.int64(1), np.int64(1), np.int64(1), np.int64(0)): Ошибка [0 0 1 0 0 0 0 0 0 0]\n",
      "Синдром (np.int64(1), np.int64(1), np.int64(0), np.int64(0), np.int64(1)): Ошибка [0 0 0 1 0 0 0 0 0 0]\n",
      "Синдром (np.int64(0), np.int64(0), np.int64(1), np.int64(1), np.int64(1)): Ошибка [0 0 0 0 1 0 0 0 0 0]\n",
      "Синдром (np.int64(1), np.int64(0), np.int64(0), np.int64(0), np.int64(0)): Ошибка [0 0 0 0 0 1 0 0 0 0]\n",
      "Синдром (np.int64(0), np.int64(1), np.int64(0), np.int64(0), np.int64(0)): Ошибка [0 0 0 0 0 0 1 0 0 0]\n",
      "Синдром (np.int64(0), np.int64(0), np.int64(1), np.int64(0), np.int64(0)): Ошибка [0 0 0 0 0 0 0 1 0 0]\n",
      "Синдром (np.int64(0), np.int64(0), np.int64(0), np.int64(1), np.int64(0)): Ошибка [0 0 0 0 0 0 0 0 1 0]\n",
      "Синдром (np.int64(0), np.int64(0), np.int64(0), np.int64(0), np.int64(1)): Ошибка [0 0 0 0 0 0 0 0 0 1]\n"
     ]
    }
   ],
   "execution_count": 13
  },
  {
   "metadata": {
    "ExecuteTime": {
     "end_time": "2024-12-05T12:59:27.841171Z",
     "start_time": "2024-12-05T12:59:27.835188Z"
    }
   },
   "cell_type": "code",
   "source": [
    "data_word_2 = np.array([1, 0, 1, 1, 0])\n",
    "codeword_2 = generate_codeword(data_word_2, G2)\n",
    "print(\"\\nКодовое слово (d=5):\", codeword_2)\n",
    "\n",
    "received_word_2 = introduce_error(codeword_2.copy(), [3])\n",
    "print(\"Кодовое слово с однократной ошибкой:\", received_word_2)\n",
    "\n",
    "syndrome_2 = calculate_syndrome(received_word_2, H2)\n",
    "print(\"Синдром:\", syndrome_2)\n",
    "\n",
    "corrected_word_2 = correct_error(received_word_2, syndrome_2, double_error_syndromes)\n",
    "print(\"Исправленное слово:\", corrected_word_2)\n",
    "print(\"Проверка совпадения с исходным:\", np.array_equal(corrected_word_2, codeword_2))"
   ],
   "id": "34fb81d3b123d327",
   "outputs": [
    {
     "name": "stdout",
     "output_type": "stream",
     "text": [
      "\n",
      "Кодовое слово (d=5): [1 0 1 1 0 0 1 1 0 1]\n",
      "Кодовое слово с однократной ошибкой: [1 0 1 0 0 0 1 1 0 1]\n",
      "Синдром: [1 1 0 0 1]\n",
      "Исправленное слово: [1 0 1 1 0 0 1 1 0 1]\n",
      "Проверка совпадения с исходным: True\n"
     ]
    }
   ],
   "execution_count": 14
  },
  {
   "metadata": {
    "ExecuteTime": {
     "end_time": "2024-12-05T12:59:29.844583Z",
     "start_time": "2024-12-05T12:59:29.826051Z"
    }
   },
   "cell_type": "code",
   "source": [
    "received_word_2_double = introduce_error(codeword_2.copy(), [2, 8])\n",
    "print(\"\\nКодовое слово с двукратной ошибкой:\", received_word_2_double)\n",
    "\n",
    "syndrome_2_double = calculate_syndrome(received_word_2_double, H2)\n",
    "print(\"Синдром для двукратной ошибки:\", syndrome_2_double)\n",
    "\n",
    "corrected_word_2_double = correct_error(received_word_2_double, syndrome_2_double, double_error_syndromes)\n",
    "print(\"Попытка исправления двукратной ошибки:\", corrected_word_2_double)\n",
    "print(\"Полученное слово отличается от исходного:\", not np.array_equal(corrected_word_2_double, codeword_2))\n",
    "\n",
    "# 2.11: Внесение трёхкратной ошибки\n",
    "received_word_2_triple = introduce_error(codeword_2.copy(), [1, 4, 9])\n",
    "print(\"\\nКодовое слово с трёхкратной ошибкой:\", received_word_2_triple)\n",
    "\n",
    "syndrome_2_triple = calculate_syndrome(received_word_2_triple, H2)\n",
    "print(\"Синдром для трёхкратной ошибки:\", syndrome_2_triple)\n",
    "\n",
    "corrected_word_2_triple = correct_error(received_word_2_triple, syndrome_2_triple, double_error_syndromes)\n",
    "print(\"Попытка исправления трёхкратной ошибки:\", corrected_word_2_triple)\n",
    "print(\"Полученное слово отличается от исходного:\", not np.array_equal(corrected_word_2_triple, codeword_2))"
   ],
   "id": "ad2089070fdd8a6b",
   "outputs": [
    {
     "name": "stdout",
     "output_type": "stream",
     "text": [
      "\n",
      "Кодовое слово с двукратной ошибкой: [1 0 0 1 0 0 1 1 1 1]\n",
      "Синдром для двукратной ошибки: [0 1 1 0 0]\n",
      "Попытка исправления двукратной ошибки: [1 0 0 1 0 0 1 1 1 1]\n",
      "Полученное слово отличается от исходного: True\n",
      "\n",
      "Кодовое слово с трёхкратной ошибкой: [1 1 1 1 1 0 1 1 0 0]\n",
      "Синдром для трёхкратной ошибки: [1 0 0 1 1]\n",
      "Попытка исправления трёхкратной ошибки: [1 1 1 1 1 0 1 1 0 0]\n",
      "Полученное слово отличается от исходного: True\n"
     ]
    }
   ],
   "execution_count": 15
  }
 ],
 "metadata": {
  "kernelspec": {
   "display_name": "Python 3",
   "language": "python",
   "name": "python3"
  },
  "language_info": {
   "codemirror_mode": {
    "name": "ipython",
    "version": 2
   },
   "file_extension": ".py",
   "mimetype": "text/x-python",
   "name": "python",
   "nbconvert_exporter": "python",
   "pygments_lexer": "ipython2",
   "version": "2.7.6"
  }
 },
 "nbformat": 4,
 "nbformat_minor": 5
}
