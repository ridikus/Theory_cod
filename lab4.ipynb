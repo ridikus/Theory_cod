{
 "cells": [
  {
   "cell_type": "code",
   "id": "initial_id",
   "metadata": {
    "collapsed": true,
    "ExecuteTime": {
     "end_time": "2024-12-05T13:07:51.167980Z",
     "start_time": "2024-12-05T13:07:51.094325Z"
    }
   },
   "source": [
    "import numpy as np\n",
    "\n",
    "def create_G_H():\n",
    "    G = np.hstack((np.eye(12, 12, dtype=int), B))\n",
    "    H = np.concatenate((np.eye(12, 12, dtype=int),B), axis=0)\n",
    "    return G,H\n",
    "\n",
    "\n",
    "def fix_error_G(G,H_matr,n):\n",
    "    U = np.array([0] * len(G))\n",
    "    w = np.mod(np.dot(U, G), 2)\n",
    "    e1=w.copy()\n",
    "    for i in range(n):\n",
    "        e1[i] = (e1[i] + 1) % 2\n",
    "    s=np.mod(np.dot(e1, H_matr), 2)\n",
    "    u1=None\n",
    "    if (sum(s)<=3):\n",
    "        u1 = np.hstack((s, np.zeros(len(s), dtype=int)))\n",
    "    for i in range(len(B)):\n",
    "        if(sum(s^B[i])<=2):\n",
    "            ei=np.zeros(len(s))\n",
    "            ei[i]=1\n",
    "            u1=np.hstack(s^B[i],ei)\n",
    "    if u1 is None:\n",
    "        sec_s = np.mod(np.dot(s, B), 2)\n",
    "        if (sum(sec_s) <= 3):\n",
    "            u1 = np.hstack(( np.zeros(len(s), dtype=int),sec_s))\n",
    "        for j in range(len(B)):\n",
    "            if (sum(sec_s ^ B[j]) <= 2):\n",
    "                ei = np.zeros(len(s))\n",
    "                ei[j] = 1\n",
    "                u1 = np.hstack(ei,sec_s ^ B[j])\n",
    "    if u1 is not None:\n",
    "        u1=u1^e1\n",
    "    if np.array_equal(u1,w):\n",
    "        message=\"ошибка обнаружена и исправлена\"\n",
    "    else:\n",
    "        message = \"ошибка обнаружена, но не исправлена\"\n",
    "    return message\n",
    "\n",
    "\n",
    "def crate_RM_G(r, m):\n",
    "    if r == 0:\n",
    "        return np.ones((1, 2 ** m), dtype=int)\n",
    "    if r == m:\n",
    "        G_mm = crate_RM_G(m - 1, m)\n",
    "        row = np.zeros((1, 2 ** m), dtype=int)\n",
    "        row[0, -1] = 1\n",
    "        return np.vstack([G_mm, row])\n",
    "\n",
    "    G_rm1 = crate_RM_G(r, m - 1)\n",
    "    G_r1_m1 = crate_RM_G(r - 1, m - 1)\n",
    "    up = np.hstack([G_rm1, G_rm1])\n",
    "    dow = np.hstack([np.zeros((G_r1_m1.shape[0], G_r1_m1.shape[1]), dtype=int), G_r1_m1])\n",
    "    G = np.vstack([up, dow])\n",
    "    return G\n",
    "\n",
    "def H_im_matr(i,m):\n",
    "    H=np.array([[1,1],[1,-1]],dtype=int)\n",
    "    I1=np.eye(2**(m-i), dtype=int)\n",
    "    I2=np.eye(2**(i-1), dtype=int)\n",
    "    H_m = np.kron(I1,H)\n",
    "    H_m =np.kron(H_m,I2)\n",
    "    return H_m\n",
    "\n",
    "def w_w1(w):\n",
    "    w1=np.array([1]*len(w))\n",
    "    for j in range(len(w)):\n",
    "        if(w[j]==0):\n",
    "            w1[j]=-1\n",
    "    return w1\n",
    "\n",
    "def fix_error_RM(G,m,n):\n",
    "    U = np.array([0] * len(G))\n",
    "    w = np.mod(np.dot(U, G), 2) \n",
    "    e1 = w.copy()\n",
    "    for i in range(n):\n",
    "        e1[i] = (e1[i] + 1) % 2\n",
    "    wm=np.dot(w_w1(e1), H_im_matr(1,m))\n",
    "    for j in range(2, m + 1):\n",
    "        wm = np.dot(wm, H_im_matr(j, m))\n",
    "    lead = np.argmax(abs(wm))\n",
    "\n",
    "    v=np.array([0]*m)\n",
    "    V_bin=bin(lead)[2:]\n",
    "    V_rev=list(V_bin)\n",
    "    V_rev.reverse()\n",
    "    for j in range(len(V_rev)):\n",
    "        v[j]=int(V_rev[j])\n",
    "    if(wm[lead]>0):\n",
    "        u = np.append(np.array([1],dtype=int), v)\n",
    "    else:\n",
    "        u = np.append(np.array([0],dtype=int), v)\n",
    "\n",
    "    if np.array_equal(u,U):\n",
    "        message = \"ошибка обнаружена и исправлена\"\n",
    "    else:\n",
    "        message = \"ошибка обнаружена, но не исправлена\"\n",
    "    return message\n"
   ],
   "outputs": [],
   "execution_count": 1
  },
  {
   "metadata": {
    "ExecuteTime": {
     "end_time": "2024-12-05T13:08:42.449983Z",
     "start_time": "2024-12-05T13:08:42.426966Z"
    }
   },
   "cell_type": "code",
   "source": [
    "B = np.array([[1, 1, 0, 1, 1, 1, 0, 0, 0, 1, 0, 1],\n",
    "              [1, 0, 1, 1, 1, 0, 0, 0, 1, 0, 1, 1],\n",
    "              [0, 1, 1, 1, 0, 0, 0, 1, 0, 1, 1, 1],\n",
    "              [1, 1, 1, 0, 0, 0, 1, 0, 1, 1, 0, 1],\n",
    "              [1, 1, 0, 0, 0, 1, 0, 1, 1, 0, 1, 1],\n",
    "              [1, 0, 0, 0, 1, 0, 1, 1, 0, 1, 1, 1],\n",
    "              [0, 0, 0, 1, 0, 1, 1, 0, 1, 1, 1, 1],\n",
    "              [0, 0, 1, 0, 1, 1, 0, 1, 1, 1, 0, 1],\n",
    "              [0, 1, 0, 1, 1, 0, 1, 1, 1, 0, 0, 1],\n",
    "              [1, 0, 1, 1, 0, 1, 1, 1, 0, 0, 0, 1],\n",
    "              [0, 1, 1, 0, 1, 1, 1, 0, 0, 0, 1, 1],\n",
    "              [1, 1, 1, 1, 1, 1, 1, 1, 1, 1, 1, 0]])\n",
    "\n",
    "\n",
    "G_matr,H_matr = create_G_H()\n",
    "print(\"Матрица G расширенного кода Голея\\n\",G_matr)"
   ],
   "id": "752b15954e28b4ed",
   "outputs": [
    {
     "name": "stdout",
     "output_type": "stream",
     "text": [
      "Матрица G расширенного кода Голея\n",
      " [[1 0 0 0 0 0 0 0 0 0 0 0 1 1 0 1 1 1 0 0 0 1 0 1]\n",
      " [0 1 0 0 0 0 0 0 0 0 0 0 1 0 1 1 1 0 0 0 1 0 1 1]\n",
      " [0 0 1 0 0 0 0 0 0 0 0 0 0 1 1 1 0 0 0 1 0 1 1 1]\n",
      " [0 0 0 1 0 0 0 0 0 0 0 0 1 1 1 0 0 0 1 0 1 1 0 1]\n",
      " [0 0 0 0 1 0 0 0 0 0 0 0 1 1 0 0 0 1 0 1 1 0 1 1]\n",
      " [0 0 0 0 0 1 0 0 0 0 0 0 1 0 0 0 1 0 1 1 0 1 1 1]\n",
      " [0 0 0 0 0 0 1 0 0 0 0 0 0 0 0 1 0 1 1 0 1 1 1 1]\n",
      " [0 0 0 0 0 0 0 1 0 0 0 0 0 0 1 0 1 1 0 1 1 1 0 1]\n",
      " [0 0 0 0 0 0 0 0 1 0 0 0 0 1 0 1 1 0 1 1 1 0 0 1]\n",
      " [0 0 0 0 0 0 0 0 0 1 0 0 1 0 1 1 0 1 1 1 0 0 0 1]\n",
      " [0 0 0 0 0 0 0 0 0 0 1 0 0 1 1 0 1 1 1 0 0 0 1 1]\n",
      " [0 0 0 0 0 0 0 0 0 0 0 1 1 1 1 1 1 1 1 1 1 1 1 0]]\n"
     ]
    }
   ],
   "execution_count": 3
  },
  {
   "metadata": {
    "ExecuteTime": {
     "end_time": "2024-12-05T13:08:44.446741Z",
     "start_time": "2024-12-05T13:08:44.436505Z"
    }
   },
   "cell_type": "code",
   "source": "print(\"Матрица H расширенного кода Голея\\n\",H_matr)",
   "id": "ac9630f89d1e9b53",
   "outputs": [
    {
     "name": "stdout",
     "output_type": "stream",
     "text": [
      "Матрица H расширенного кода Голея\n",
      " [[1 0 0 0 0 0 0 0 0 0 0 0]\n",
      " [0 1 0 0 0 0 0 0 0 0 0 0]\n",
      " [0 0 1 0 0 0 0 0 0 0 0 0]\n",
      " [0 0 0 1 0 0 0 0 0 0 0 0]\n",
      " [0 0 0 0 1 0 0 0 0 0 0 0]\n",
      " [0 0 0 0 0 1 0 0 0 0 0 0]\n",
      " [0 0 0 0 0 0 1 0 0 0 0 0]\n",
      " [0 0 0 0 0 0 0 1 0 0 0 0]\n",
      " [0 0 0 0 0 0 0 0 1 0 0 0]\n",
      " [0 0 0 0 0 0 0 0 0 1 0 0]\n",
      " [0 0 0 0 0 0 0 0 0 0 1 0]\n",
      " [0 0 0 0 0 0 0 0 0 0 0 1]\n",
      " [1 1 0 1 1 1 0 0 0 1 0 1]\n",
      " [1 0 1 1 1 0 0 0 1 0 1 1]\n",
      " [0 1 1 1 0 0 0 1 0 1 1 1]\n",
      " [1 1 1 0 0 0 1 0 1 1 0 1]\n",
      " [1 1 0 0 0 1 0 1 1 0 1 1]\n",
      " [1 0 0 0 1 0 1 1 0 1 1 1]\n",
      " [0 0 0 1 0 1 1 0 1 1 1 1]\n",
      " [0 0 1 0 1 1 0 1 1 1 0 1]\n",
      " [0 1 0 1 1 0 1 1 1 0 0 1]\n",
      " [1 0 1 1 0 1 1 1 0 0 0 1]\n",
      " [0 1 1 0 1 1 1 0 0 0 1 1]\n",
      " [1 1 1 1 1 1 1 1 1 1 1 0]]\n"
     ]
    }
   ],
   "execution_count": 4
  },
  {
   "metadata": {
    "ExecuteTime": {
     "end_time": "2024-12-05T13:08:48.255718Z",
     "start_time": "2024-12-05T13:08:48.245582Z"
    }
   },
   "cell_type": "code",
   "source": [
    "print(\"Исправление ошибок с помощью расширенного кода Голея\")\n",
    "print(\"для ошибки кратности \",1,\": \",fix_error_G(G_matr,H_matr,1))\n",
    "print(\"для ошибки кратности \",2,\": \",fix_error_G(G_matr,H_matr,2))\n",
    "print(\"для ошибки кратности \",3,\": \",fix_error_G(G_matr,H_matr,3))\n",
    "print(\"для ошибки кратности \",4,\": \",fix_error_G(G_matr,H_matr,4),'\\n\\n')"
   ],
   "id": "ab83a5d6f63f7b10",
   "outputs": [
    {
     "name": "stdout",
     "output_type": "stream",
     "text": [
      "Исправление ошибок с помощью расширенного кода Голея\n",
      "для ошибки кратности  1 :  ошибка обнаружена и исправлена\n",
      "для ошибки кратности  2 :  ошибка обнаружена и исправлена\n",
      "для ошибки кратности  3 :  ошибка обнаружена и исправлена\n",
      "для ошибки кратности  4 :  ошибка обнаружена, но не исправлена \n",
      "\n",
      "\n"
     ]
    }
   ],
   "execution_count": 5
  },
  {
   "metadata": {
    "ExecuteTime": {
     "end_time": "2024-12-05T13:08:50.377176Z",
     "start_time": "2024-12-05T13:08:50.363108Z"
    }
   },
   "cell_type": "code",
   "source": [
    "r,m=1,3\n",
    "RM_G_matr=crate_RM_G(r,m)\n",
    "print(\"Матрица G кода Рида-Маллера r=1,m=3\\n\",RM_G_matr)\n",
    "print(\"Исправление ошибок с помощью кода Рида-Маллера при r = 1, m = 3\")\n",
    "print(\"для ошибки кратности \",1,\": \",fix_error_RM(RM_G_matr,m,1))\n",
    "print(\"для ошибки кратности \",2,\": \",fix_error_RM(RM_G_matr,m,2),'\\n\\n')"
   ],
   "id": "63227c3b4b91ff1b",
   "outputs": [
    {
     "name": "stdout",
     "output_type": "stream",
     "text": [
      "Матрица G кода Рида-Маллера r=1,m=3\n",
      " [[1 1 1 1 1 1 1 1]\n",
      " [0 1 0 1 0 1 0 1]\n",
      " [0 0 1 1 0 0 1 1]\n",
      " [0 0 0 0 1 1 1 1]]\n",
      "Исправление ошибок с помощью кода Рида-Маллера при r = 1, m = 3\n",
      "для ошибки кратности  1 :  ошибка обнаружена и исправлена\n",
      "для ошибки кратности  2 :  ошибка обнаружена и исправлена \n",
      "\n",
      "\n"
     ]
    }
   ],
   "execution_count": 6
  },
  {
   "metadata": {
    "ExecuteTime": {
     "end_time": "2024-12-05T13:08:52.257383Z",
     "start_time": "2024-12-05T13:08:52.245237Z"
    }
   },
   "cell_type": "code",
   "source": [
    "r,m=1,4\n",
    "RM_G_matr=crate_RM_G(r,m)\n",
    "print(\"Матрица G кода Рида-Маллера, r = 1,m = 4\\n\",RM_G_matr)\n",
    "print(\"Исправление ошибок с помощью кода Рида-Маллера при r = 1, m = 4\")\n",
    "print(\"для ошибки кратности \",1,\": \",fix_error_RM(RM_G_matr,m,1))\n",
    "print(\"для ошибки кратности \",2,\": \",fix_error_RM(RM_G_matr,m,2))\n",
    "print(\"для ошибки кратности \",3,\": \",fix_error_RM(RM_G_matr,m,3))\n",
    "print(\"для ошибки кратности \",4,\": \",fix_error_RM(RM_G_matr,m,4))"
   ],
   "id": "445736997e411bb7",
   "outputs": [
    {
     "name": "stdout",
     "output_type": "stream",
     "text": [
      "Матрица G кода Рида-Маллера, r = 1,m = 4\n",
      " [[1 1 1 1 1 1 1 1 1 1 1 1 1 1 1 1]\n",
      " [0 1 0 1 0 1 0 1 0 1 0 1 0 1 0 1]\n",
      " [0 0 1 1 0 0 1 1 0 0 1 1 0 0 1 1]\n",
      " [0 0 0 0 1 1 1 1 0 0 0 0 1 1 1 1]\n",
      " [0 0 0 0 0 0 0 0 1 1 1 1 1 1 1 1]]\n",
      "Исправление ошибок с помощью кода Рида-Маллера при r = 1, m = 4\n",
      "для ошибки кратности  1 :  ошибка обнаружена и исправлена\n",
      "для ошибки кратности  2 :  ошибка обнаружена и исправлена\n",
      "для ошибки кратности  3 :  ошибка обнаружена и исправлена\n",
      "для ошибки кратности  4 :  ошибка обнаружена и исправлена\n"
     ]
    }
   ],
   "execution_count": 7
  }
 ],
 "metadata": {
  "kernelspec": {
   "display_name": "Python 3",
   "language": "python",
   "name": "python3"
  },
  "language_info": {
   "codemirror_mode": {
    "name": "ipython",
    "version": 2
   },
   "file_extension": ".py",
   "mimetype": "text/x-python",
   "name": "python",
   "nbconvert_exporter": "python",
   "pygments_lexer": "ipython2",
   "version": "2.7.6"
  }
 },
 "nbformat": 4,
 "nbformat_minor": 5
}
