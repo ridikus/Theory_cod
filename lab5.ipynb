{
 "cells": [
  {
   "cell_type": "code",
   "id": "initial_id",
   "metadata": {
    "collapsed": true,
    "ExecuteTime": {
     "end_time": "2024-12-05T13:12:53.574687Z",
     "start_time": "2024-12-05T13:12:53.501760Z"
    }
   },
   "source": [
    "import numpy as np\n",
    "import math\n",
    "from itertools import combinations, product\n",
    "\n",
    "\n",
    "def generate_binary_matrix(cols):\n",
    "    return list(product([0, 1], repeat=cols))\n",
    "\n",
    "\n",
    "def calculate_f_value(vector, indices):\n",
    "    return np.prod([(vector[idx] + 1) % 2 for idx in indices])\n",
    "\n",
    "\n",
    "def create_vector(indices, num_cols):\n",
    "    if len(indices) == 0:\n",
    "        return np.ones(2 ** num_cols, dtype=int)\n",
    "    return [calculate_f_value(binary_vector, indices) for binary_vector in generate_binary_matrix(num_cols)]\n",
    "\n",
    "\n",
    "def generate_combinations(num_cols, r):\n",
    "    return [subset for subset_size in range(r + 1) for subset in combinations(range(num_cols), subset_size)]\n",
    "\n",
    "\n",
    "def compute_rm_matrix_size(r, m):\n",
    "    return sum(math.comb(m, i) for i in range(r + 1))\n",
    "\n",
    "\n",
    "def build_rm_matrix(r, m):\n",
    "    size = compute_rm_matrix_size(r, m)\n",
    "    matrix = np.zeros((size, 2 ** m), dtype=int)\n",
    "    for row, subset in enumerate(generate_combinations(m, r)):\n",
    "        matrix[row] = create_vector(subset, m)\n",
    "    return matrix\n",
    "\n",
    "\n",
    "def sort_for_decoding(m, r):\n",
    "    index_combinations = list(combinations(range(m), r))\n",
    "    index_combinations.sort(key=len)\n",
    "    return np.array(index_combinations, dtype=int)\n",
    "\n",
    "\n",
    "def create_vector_H(indices, m):\n",
    "    return [binary_vector for binary_vector in generate_binary_matrix(m) if\n",
    "            calculate_f_value(binary_vector, indices) == 1]\n",
    "\n",
    "\n",
    "def get_complement(indices, m):\n",
    "    return [i for i in range(m) if i not in indices]\n",
    "\n",
    "\n",
    "def calculate_f_with_t(binary_vector, indices, t):\n",
    "    return np.prod([(binary_vector[j] + t[j] + 1) % 2 for j in indices])\n",
    "\n",
    "\n",
    "def create_vector_with_t(indices, m, t):\n",
    "    if len(indices) == 0:\n",
    "        return np.ones(2 ** m, dtype=int)\n",
    "    return [calculate_f_with_t(binary_vector, indices, t) for binary_vector in generate_binary_matrix(m)]\n",
    "\n",
    "\n",
    "def majoritarian_decoding(received_word, r, m, size):\n",
    "    word = received_word.copy()\n",
    "    decoded_vector = np.zeros(size, dtype=int)\n",
    "    max_weight = 2 ** (m - r - 1) - 1\n",
    "    index = 0\n",
    "\n",
    "    for i in range(r, -1, -1):\n",
    "        for indices in sort_for_decoding(m, i):\n",
    "            max_count = 2 ** (m - i - 1)\n",
    "            zero_count, one_count = 0, 0\n",
    "            complement = get_complement(indices, m)\n",
    "\n",
    "            for t in create_vector_H(indices, m):\n",
    "                V = create_vector_with_t(complement, m, t)\n",
    "                c = np.dot(word, V) % 2\n",
    "                zero_count += (c == 0)\n",
    "                one_count += (c == 1)\n",
    "\n",
    "            if zero_count > max_weight and one_count > max_weight:\n",
    "                return None\n",
    "\n",
    "            if zero_count > max_count:\n",
    "                decoded_vector[index] = 0\n",
    "            elif one_count > max_count:\n",
    "                decoded_vector[index] = 1\n",
    "                word = (word + create_vector(indices, m)) % 2\n",
    "            index += 1\n",
    "\n",
    "    return decoded_vector\n",
    "\n",
    "\n",
    "def generate_word_with_errors(G, error_count):\n",
    "    u = np.array([1, 0, 0, 0, 1, 1, 0, 0, 0, 1, 1])\n",
    "    print(\"Исходное сообщение:\", u)\n",
    "    encoded_word = np.dot(u, G) % 2\n",
    "    error_positions = np.random.choice(len(encoded_word), size=error_count, replace=False)\n",
    "    encoded_word[error_positions] = (encoded_word[error_positions] + 1) % 2\n",
    "    return encoded_word\n",
    "\n",
    "\n",
    "def run_single_error_experiment(G):\n",
    "    error_word = generate_word_with_errors(G, 1)\n",
    "    print(\"Слово с одной ошибкой:\", error_word)\n",
    "    decoded_word = majoritarian_decoding(error_word, 2, 4, len(G))\n",
    "    if decoded_word is None:\n",
    "        print(\"\\nНеобходима повторная отправка сообщения\")\n",
    "    else:\n",
    "        print(\"Исправленное слово:\", decoded_word)\n",
    "        result = np.dot(decoded_word, G) % 2\n",
    "        print(\"Результат умножения исправленного слова на матрицу G:\", result)\n",
    "\n",
    "\n",
    "def run_double_error_experiment(G):\n",
    "    error_word = generate_word_with_errors(G, 2)\n",
    "    print(\"Слово с двумя ошибками:\", error_word)\n",
    "    decoded_word = majoritarian_decoding(error_word, 2, 4, len(G))\n",
    "    if decoded_word is None:\n",
    "        print(\"\\nНеобходима повторная отправка сообщения\")\n",
    "    else:\n",
    "        print(\"Исправленное слово:\", decoded_word)\n",
    "        result = np.dot(decoded_word, G) % 2\n",
    "        print(\"Результат умножения исправленного слова на матрицу G:\", result)"
   ],
   "outputs": [],
   "execution_count": 1
  },
  {
   "metadata": {
    "ExecuteTime": {
     "end_time": "2024-12-05T13:13:11.416833Z",
     "start_time": "2024-12-05T13:13:11.409852Z"
    }
   },
   "cell_type": "code",
   "source": [
    "G_matrix = build_rm_matrix(2, 4)\n",
    "print(\"Порождающая матрица G:\\n\", G_matrix)"
   ],
   "id": "3143ae907a607b81",
   "outputs": [
    {
     "name": "stdout",
     "output_type": "stream",
     "text": [
      "Порождающая матрица G:\n",
      " [[1 1 1 1 1 1 1 1 1 1 1 1 1 1 1 1]\n",
      " [1 1 1 1 1 1 1 1 0 0 0 0 0 0 0 0]\n",
      " [1 1 1 1 0 0 0 0 1 1 1 1 0 0 0 0]\n",
      " [1 1 0 0 1 1 0 0 1 1 0 0 1 1 0 0]\n",
      " [1 0 1 0 1 0 1 0 1 0 1 0 1 0 1 0]\n",
      " [1 1 1 1 0 0 0 0 0 0 0 0 0 0 0 0]\n",
      " [1 1 0 0 1 1 0 0 0 0 0 0 0 0 0 0]\n",
      " [1 0 1 0 1 0 1 0 0 0 0 0 0 0 0 0]\n",
      " [1 1 0 0 0 0 0 0 1 1 0 0 0 0 0 0]\n",
      " [1 0 1 0 0 0 0 0 1 0 1 0 0 0 0 0]\n",
      " [1 0 0 0 1 0 0 0 1 0 0 0 1 0 0 0]]\n"
     ]
    }
   ],
   "execution_count": 4
  },
  {
   "metadata": {
    "ExecuteTime": {
     "end_time": "2024-12-05T13:13:08.190132Z",
     "start_time": "2024-12-05T13:13:08.166463Z"
    }
   },
   "cell_type": "code",
   "source": [
    "run_single_error_experiment(G_matrix)\n",
    "run_double_error_experiment(G_matrix)"
   ],
   "id": "6bee874c2228d16e",
   "outputs": [
    {
     "name": "stdout",
     "output_type": "stream",
     "text": [
      "Исходное сообщение: [1 0 0 0 1 1 0 0 0 1 1]\n",
      "Слово с одной ошибкой: [1 0 0 0 1 1 0 1 0 1 0 1 1 1 0 1]\n",
      "Исправленное слово: [1 0 0 0 1 1 0 0 0 1 1]\n",
      "Результат умножения исправленного слова на матрицу G: [1 0 0 0 1 1 0 1 0 1 1 1 1 1 0 1]\n",
      "Исходное сообщение: [1 0 0 0 1 1 0 0 0 1 1]\n",
      "Слово с двумя ошибками: [1 1 0 0 1 1 1 1 0 1 1 1 1 1 0 1]\n",
      "\n",
      "Необходима повторная отправка сообщения\n"
     ]
    }
   ],
   "execution_count": 3
  }
 ],
 "metadata": {
  "kernelspec": {
   "display_name": "Python 3",
   "language": "python",
   "name": "python3"
  },
  "language_info": {
   "codemirror_mode": {
    "name": "ipython",
    "version": 2
   },
   "file_extension": ".py",
   "mimetype": "text/x-python",
   "name": "python",
   "nbconvert_exporter": "python",
   "pygments_lexer": "ipython2",
   "version": "2.7.6"
  }
 },
 "nbformat": 4,
 "nbformat_minor": 5
}
